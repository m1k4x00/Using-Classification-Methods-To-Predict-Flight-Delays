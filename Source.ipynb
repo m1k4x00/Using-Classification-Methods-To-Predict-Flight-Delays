{
 "cells": [
  {
   "cell_type": "code",
   "execution_count": 2,
   "id": "41dcf1e9",
   "metadata": {},
   "outputs": [
    {
     "name": "stderr",
     "output_type": "stream",
     "text": [
      "Fontconfig error: Cannot load default config file: No such file: (null)\n"
     ]
    }
   ],
   "source": [
    "import pandas as pd #Data analysis\n",
    "import numpy as np #Data analysis\n",
    "import matplotlib.pyplot as plt #Data visualization\n",
    "import seaborn as sns #Data visualization\n",
    "from sklearn.model_selection import train_test_split #Model Selection\n",
    "from sklearn.linear_model import LogisticRegression #Logistic Regression\n",
    "from sklearn.metrics import accuracy_score, confusion_matrix, log_loss  #Evaluation \n",
    "from sklearn.neural_network import MLPClassifier #Multilayer Perceptron"
   ]
  },
  {
   "cell_type": "code",
   "execution_count": 3,
   "id": "385213a2",
   "metadata": {},
   "outputs": [],
   "source": [
    "#Importing and categorizing data\n",
    "df = pd.read_csv('Airlines.csv')\n",
    "dataset = df[[\"Airline\",\"DayOfWeek\", \"Time\", \"Length\", \"Delay\"]]\n",
    "delayed = df[df['Delay']==1]\n",
    "not_delayed = df[df['Delay']==0]"
   ]
  },
  {
   "cell_type": "code",
   "execution_count": 4,
   "id": "3e7f145f",
   "metadata": {},
   "outputs": [
    {
     "data": {
      "text/html": [
       "<div>\n",
       "<style scoped>\n",
       "    .dataframe tbody tr th:only-of-type {\n",
       "        vertical-align: middle;\n",
       "    }\n",
       "\n",
       "    .dataframe tbody tr th {\n",
       "        vertical-align: top;\n",
       "    }\n",
       "\n",
       "    .dataframe thead th {\n",
       "        text-align: right;\n",
       "    }\n",
       "</style>\n",
       "<table border=\"1\" class=\"dataframe\">\n",
       "  <thead>\n",
       "    <tr style=\"text-align: right;\">\n",
       "      <th></th>\n",
       "      <th>id</th>\n",
       "      <th>Airline</th>\n",
       "      <th>Flight</th>\n",
       "      <th>AirportFrom</th>\n",
       "      <th>AirportTo</th>\n",
       "      <th>DayOfWeek</th>\n",
       "      <th>Time</th>\n",
       "      <th>Length</th>\n",
       "      <th>Delay</th>\n",
       "    </tr>\n",
       "  </thead>\n",
       "  <tbody>\n",
       "    <tr>\n",
       "      <th>57914</th>\n",
       "      <td>57915</td>\n",
       "      <td>B6</td>\n",
       "      <td>372</td>\n",
       "      <td>FLL</td>\n",
       "      <td>LGA</td>\n",
       "      <td>6</td>\n",
       "      <td>585</td>\n",
       "      <td>165</td>\n",
       "      <td>0</td>\n",
       "    </tr>\n",
       "    <tr>\n",
       "      <th>314407</th>\n",
       "      <td>314408</td>\n",
       "      <td>XE</td>\n",
       "      <td>2540</td>\n",
       "      <td>BNA</td>\n",
       "      <td>IAH</td>\n",
       "      <td>7</td>\n",
       "      <td>520</td>\n",
       "      <td>134</td>\n",
       "      <td>0</td>\n",
       "    </tr>\n",
       "    <tr>\n",
       "      <th>480541</th>\n",
       "      <td>480542</td>\n",
       "      <td>AA</td>\n",
       "      <td>349</td>\n",
       "      <td>FLL</td>\n",
       "      <td>DFW</td>\n",
       "      <td>2</td>\n",
       "      <td>950</td>\n",
       "      <td>195</td>\n",
       "      <td>1</td>\n",
       "    </tr>\n",
       "    <tr>\n",
       "      <th>341783</th>\n",
       "      <td>341784</td>\n",
       "      <td>XE</td>\n",
       "      <td>2465</td>\n",
       "      <td>IAH</td>\n",
       "      <td>MAF</td>\n",
       "      <td>1</td>\n",
       "      <td>1003</td>\n",
       "      <td>89</td>\n",
       "      <td>0</td>\n",
       "    </tr>\n",
       "    <tr>\n",
       "      <th>32898</th>\n",
       "      <td>32899</td>\n",
       "      <td>WN</td>\n",
       "      <td>46</td>\n",
       "      <td>DAL</td>\n",
       "      <td>ABQ</td>\n",
       "      <td>4</td>\n",
       "      <td>1130</td>\n",
       "      <td>110</td>\n",
       "      <td>1</td>\n",
       "    </tr>\n",
       "  </tbody>\n",
       "</table>\n",
       "</div>"
      ],
      "text/plain": [
       "            id Airline  Flight AirportFrom AirportTo  DayOfWeek  Time  Length  \\\n",
       "57914    57915      B6     372         FLL       LGA          6   585     165   \n",
       "314407  314408      XE    2540         BNA       IAH          7   520     134   \n",
       "480541  480542      AA     349         FLL       DFW          2   950     195   \n",
       "341783  341784      XE    2465         IAH       MAF          1  1003      89   \n",
       "32898    32899      WN      46         DAL       ABQ          4  1130     110   \n",
       "\n",
       "        Delay  \n",
       "57914       0  \n",
       "314407      0  \n",
       "480541      1  \n",
       "341783      0  \n",
       "32898       1  "
      ]
     },
     "execution_count": 4,
     "metadata": {},
     "output_type": "execute_result"
    }
   ],
   "source": [
    "df.sample(5) #5 Random samples from the data"
   ]
  },
  {
   "cell_type": "code",
   "execution_count": 5,
   "id": "4c918874",
   "metadata": {},
   "outputs": [
    {
     "name": "stdout",
     "output_type": "stream",
     "text": [
      "<class 'pandas.core.frame.DataFrame'>\n",
      "RangeIndex: 539383 entries, 0 to 539382\n",
      "Data columns (total 9 columns):\n",
      " #   Column       Non-Null Count   Dtype \n",
      "---  ------       --------------   ----- \n",
      " 0   id           539383 non-null  int64 \n",
      " 1   Airline      539383 non-null  object\n",
      " 2   Flight       539383 non-null  int64 \n",
      " 3   AirportFrom  539383 non-null  object\n",
      " 4   AirportTo    539383 non-null  object\n",
      " 5   DayOfWeek    539383 non-null  int64 \n",
      " 6   Time         539383 non-null  int64 \n",
      " 7   Length       539383 non-null  int64 \n",
      " 8   Delay        539383 non-null  int64 \n",
      "dtypes: int64(6), object(3)\n",
      "memory usage: 37.0+ MB\n"
     ]
    }
   ],
   "source": [
    "df.info()"
   ]
  },
  {
   "cell_type": "code",
   "execution_count": 6,
   "id": "48be7f68",
   "metadata": {},
   "outputs": [
    {
     "data": {
      "text/html": [
       "<div>\n",
       "<style scoped>\n",
       "    .dataframe tbody tr th:only-of-type {\n",
       "        vertical-align: middle;\n",
       "    }\n",
       "\n",
       "    .dataframe tbody tr th {\n",
       "        vertical-align: top;\n",
       "    }\n",
       "\n",
       "    .dataframe thead th {\n",
       "        text-align: right;\n",
       "    }\n",
       "</style>\n",
       "<table border=\"1\" class=\"dataframe\">\n",
       "  <thead>\n",
       "    <tr style=\"text-align: right;\">\n",
       "      <th></th>\n",
       "      <th>id</th>\n",
       "      <th>Flight</th>\n",
       "      <th>DayOfWeek</th>\n",
       "      <th>Time</th>\n",
       "      <th>Length</th>\n",
       "      <th>Delay</th>\n",
       "    </tr>\n",
       "  </thead>\n",
       "  <tbody>\n",
       "    <tr>\n",
       "      <th>count</th>\n",
       "      <td>539383.00000</td>\n",
       "      <td>539383.000000</td>\n",
       "      <td>539383.000000</td>\n",
       "      <td>539383.000000</td>\n",
       "      <td>539383.000000</td>\n",
       "      <td>539383.000000</td>\n",
       "    </tr>\n",
       "    <tr>\n",
       "      <th>mean</th>\n",
       "      <td>269692.00000</td>\n",
       "      <td>2427.928630</td>\n",
       "      <td>3.929668</td>\n",
       "      <td>802.728963</td>\n",
       "      <td>132.202007</td>\n",
       "      <td>0.445442</td>\n",
       "    </tr>\n",
       "    <tr>\n",
       "      <th>std</th>\n",
       "      <td>155706.60446</td>\n",
       "      <td>2067.429837</td>\n",
       "      <td>1.914664</td>\n",
       "      <td>278.045911</td>\n",
       "      <td>70.117016</td>\n",
       "      <td>0.497015</td>\n",
       "    </tr>\n",
       "    <tr>\n",
       "      <th>min</th>\n",
       "      <td>1.00000</td>\n",
       "      <td>1.000000</td>\n",
       "      <td>1.000000</td>\n",
       "      <td>10.000000</td>\n",
       "      <td>0.000000</td>\n",
       "      <td>0.000000</td>\n",
       "    </tr>\n",
       "    <tr>\n",
       "      <th>25%</th>\n",
       "      <td>134846.50000</td>\n",
       "      <td>712.000000</td>\n",
       "      <td>2.000000</td>\n",
       "      <td>565.000000</td>\n",
       "      <td>81.000000</td>\n",
       "      <td>0.000000</td>\n",
       "    </tr>\n",
       "    <tr>\n",
       "      <th>50%</th>\n",
       "      <td>269692.00000</td>\n",
       "      <td>1809.000000</td>\n",
       "      <td>4.000000</td>\n",
       "      <td>795.000000</td>\n",
       "      <td>115.000000</td>\n",
       "      <td>0.000000</td>\n",
       "    </tr>\n",
       "    <tr>\n",
       "      <th>75%</th>\n",
       "      <td>404537.50000</td>\n",
       "      <td>3745.000000</td>\n",
       "      <td>5.000000</td>\n",
       "      <td>1035.000000</td>\n",
       "      <td>162.000000</td>\n",
       "      <td>1.000000</td>\n",
       "    </tr>\n",
       "    <tr>\n",
       "      <th>max</th>\n",
       "      <td>539383.00000</td>\n",
       "      <td>7814.000000</td>\n",
       "      <td>7.000000</td>\n",
       "      <td>1439.000000</td>\n",
       "      <td>655.000000</td>\n",
       "      <td>1.000000</td>\n",
       "    </tr>\n",
       "  </tbody>\n",
       "</table>\n",
       "</div>"
      ],
      "text/plain": [
       "                 id         Flight      DayOfWeek           Time  \\\n",
       "count  539383.00000  539383.000000  539383.000000  539383.000000   \n",
       "mean   269692.00000    2427.928630       3.929668     802.728963   \n",
       "std    155706.60446    2067.429837       1.914664     278.045911   \n",
       "min         1.00000       1.000000       1.000000      10.000000   \n",
       "25%    134846.50000     712.000000       2.000000     565.000000   \n",
       "50%    269692.00000    1809.000000       4.000000     795.000000   \n",
       "75%    404537.50000    3745.000000       5.000000    1035.000000   \n",
       "max    539383.00000    7814.000000       7.000000    1439.000000   \n",
       "\n",
       "              Length          Delay  \n",
       "count  539383.000000  539383.000000  \n",
       "mean      132.202007       0.445442  \n",
       "std        70.117016       0.497015  \n",
       "min         0.000000       0.000000  \n",
       "25%        81.000000       0.000000  \n",
       "50%       115.000000       0.000000  \n",
       "75%       162.000000       1.000000  \n",
       "max       655.000000       1.000000  "
      ]
     },
     "execution_count": 6,
     "metadata": {},
     "output_type": "execute_result"
    }
   ],
   "source": [
    "df.describe()"
   ]
  },
  {
   "cell_type": "code",
   "execution_count": 7,
   "id": "c161d58f",
   "metadata": {},
   "outputs": [
    {
     "data": {
      "text/html": [
       "<div>\n",
       "<style scoped>\n",
       "    .dataframe tbody tr th:only-of-type {\n",
       "        vertical-align: middle;\n",
       "    }\n",
       "\n",
       "    .dataframe tbody tr th {\n",
       "        vertical-align: top;\n",
       "    }\n",
       "\n",
       "    .dataframe thead th {\n",
       "        text-align: right;\n",
       "    }\n",
       "</style>\n",
       "<table border=\"1\" class=\"dataframe\">\n",
       "  <thead>\n",
       "    <tr style=\"text-align: right;\">\n",
       "      <th></th>\n",
       "      <th>id</th>\n",
       "      <th>Flight</th>\n",
       "      <th>DayOfWeek</th>\n",
       "      <th>Time</th>\n",
       "      <th>Length</th>\n",
       "      <th>Delay</th>\n",
       "    </tr>\n",
       "  </thead>\n",
       "  <tbody>\n",
       "    <tr>\n",
       "      <th>id</th>\n",
       "      <td>1.000000</td>\n",
       "      <td>-0.006156</td>\n",
       "      <td>-0.055474</td>\n",
       "      <td>0.029156</td>\n",
       "      <td>0.020781</td>\n",
       "      <td>0.139762</td>\n",
       "    </tr>\n",
       "    <tr>\n",
       "      <th>Flight</th>\n",
       "      <td>-0.006156</td>\n",
       "      <td>1.000000</td>\n",
       "      <td>0.000416</td>\n",
       "      <td>-0.005750</td>\n",
       "      <td>-0.341481</td>\n",
       "      <td>-0.046175</td>\n",
       "    </tr>\n",
       "    <tr>\n",
       "      <th>DayOfWeek</th>\n",
       "      <td>-0.055474</td>\n",
       "      <td>0.000416</td>\n",
       "      <td>1.000000</td>\n",
       "      <td>0.001273</td>\n",
       "      <td>0.013397</td>\n",
       "      <td>-0.026199</td>\n",
       "    </tr>\n",
       "    <tr>\n",
       "      <th>Time</th>\n",
       "      <td>0.029156</td>\n",
       "      <td>-0.005750</td>\n",
       "      <td>0.001273</td>\n",
       "      <td>1.000000</td>\n",
       "      <td>-0.020612</td>\n",
       "      <td>0.150454</td>\n",
       "    </tr>\n",
       "    <tr>\n",
       "      <th>Length</th>\n",
       "      <td>0.020781</td>\n",
       "      <td>-0.341481</td>\n",
       "      <td>0.013397</td>\n",
       "      <td>-0.020612</td>\n",
       "      <td>1.000000</td>\n",
       "      <td>0.040489</td>\n",
       "    </tr>\n",
       "    <tr>\n",
       "      <th>Delay</th>\n",
       "      <td>0.139762</td>\n",
       "      <td>-0.046175</td>\n",
       "      <td>-0.026199</td>\n",
       "      <td>0.150454</td>\n",
       "      <td>0.040489</td>\n",
       "      <td>1.000000</td>\n",
       "    </tr>\n",
       "  </tbody>\n",
       "</table>\n",
       "</div>"
      ],
      "text/plain": [
       "                 id    Flight  DayOfWeek      Time    Length     Delay\n",
       "id         1.000000 -0.006156  -0.055474  0.029156  0.020781  0.139762\n",
       "Flight    -0.006156  1.000000   0.000416 -0.005750 -0.341481 -0.046175\n",
       "DayOfWeek -0.055474  0.000416   1.000000  0.001273  0.013397 -0.026199\n",
       "Time       0.029156 -0.005750   0.001273  1.000000 -0.020612  0.150454\n",
       "Length     0.020781 -0.341481   0.013397 -0.020612  1.000000  0.040489\n",
       "Delay      0.139762 -0.046175  -0.026199  0.150454  0.040489  1.000000"
      ]
     },
     "execution_count": 7,
     "metadata": {},
     "output_type": "execute_result"
    }
   ],
   "source": [
    "df.corr() #Correlation matrix"
   ]
  },
  {
   "cell_type": "code",
   "execution_count": 8,
   "id": "d4e6df16",
   "metadata": {},
   "outputs": [
    {
     "data": {
      "image/png": "[encoded data removed]",
      "text/plain": [
       "<Figure size 432x288 with 1 Axes>"
      ]
     },
     "metadata": {
      "needs_background": "light"
     },
     "output_type": "display_data"
    }
   ],
   "source": [
    "#Number of occurances\n",
    "plt.style.use(\"seaborn-pastel\")\n",
    "ax = plt.subplot() \n",
    "plt.hist(df[\"Delay\"])\n",
    "plt.xticks([0,1])\n",
    "ax.set_xticklabels([\"Not delayed\", \"Delayed\"])\n",
    "plt.show()"
   ]
  },
  {
   "cell_type": "code",
   "execution_count": 9,
   "id": "b311a042",
   "metadata": {},
   "outputs": [
    {
     "data": {
      "image/png": "[encoded data removed]",
      "text/plain": [
       "<Figure size 432x288 with 1 Axes>"
      ]
     },
     "metadata": {},
     "output_type": "display_data"
    }
   ],
   "source": [
    "#Histogram of delays in different airports\n",
    "sns.set(style=\"darkgrid\")\n",
    "plt.figure()\n",
    "plt.hist([delayed['Airline'], not_delayed['Airline']])\n",
    "plt.legend([\"Delayed\", \"Not Delayed\"])\n",
    "plt.show()"
   ]
  },
  {
   "cell_type": "code",
   "execution_count": 10,
   "id": "b8dbb181",
   "metadata": {},
   "outputs": [
    {
     "name": "stdout",
     "output_type": "stream",
     "text": [
      "Shape of the new dataset:  (539383, 22)\n"
     ]
    },
    {
     "data": {
      "text/html": [
       "<div>\n",
       "<style scoped>\n",
       "    .dataframe tbody tr th:only-of-type {\n",
       "        vertical-align: middle;\n",
       "    }\n",
       "\n",
       "    .dataframe tbody tr th {\n",
       "        vertical-align: top;\n",
       "    }\n",
       "\n",
       "    .dataframe thead th {\n",
       "        text-align: right;\n",
       "    }\n",
       "</style>\n",
       "<table border=\"1\" class=\"dataframe\">\n",
       "  <thead>\n",
       "    <tr style=\"text-align: right;\">\n",
       "      <th></th>\n",
       "      <th>DayOfWeek</th>\n",
       "      <th>Time</th>\n",
       "      <th>Length</th>\n",
       "      <th>Delay</th>\n",
       "      <th>9E</th>\n",
       "      <th>AA</th>\n",
       "      <th>AS</th>\n",
       "      <th>B6</th>\n",
       "      <th>CO</th>\n",
       "      <th>DL</th>\n",
       "      <th>...</th>\n",
       "      <th>FL</th>\n",
       "      <th>HA</th>\n",
       "      <th>MQ</th>\n",
       "      <th>OH</th>\n",
       "      <th>OO</th>\n",
       "      <th>UA</th>\n",
       "      <th>US</th>\n",
       "      <th>WN</th>\n",
       "      <th>XE</th>\n",
       "      <th>YV</th>\n",
       "    </tr>\n",
       "  </thead>\n",
       "  <tbody>\n",
       "    <tr>\n",
       "      <th>0</th>\n",
       "      <td>3</td>\n",
       "      <td>15</td>\n",
       "      <td>205</td>\n",
       "      <td>1</td>\n",
       "      <td>0</td>\n",
       "      <td>0</td>\n",
       "      <td>0</td>\n",
       "      <td>0</td>\n",
       "      <td>1</td>\n",
       "      <td>0</td>\n",
       "      <td>...</td>\n",
       "      <td>0</td>\n",
       "      <td>0</td>\n",
       "      <td>0</td>\n",
       "      <td>0</td>\n",
       "      <td>0</td>\n",
       "      <td>0</td>\n",
       "      <td>0</td>\n",
       "      <td>0</td>\n",
       "      <td>0</td>\n",
       "      <td>0</td>\n",
       "    </tr>\n",
       "    <tr>\n",
       "      <th>1</th>\n",
       "      <td>3</td>\n",
       "      <td>15</td>\n",
       "      <td>222</td>\n",
       "      <td>1</td>\n",
       "      <td>0</td>\n",
       "      <td>0</td>\n",
       "      <td>0</td>\n",
       "      <td>0</td>\n",
       "      <td>0</td>\n",
       "      <td>0</td>\n",
       "      <td>...</td>\n",
       "      <td>0</td>\n",
       "      <td>0</td>\n",
       "      <td>0</td>\n",
       "      <td>0</td>\n",
       "      <td>0</td>\n",
       "      <td>0</td>\n",
       "      <td>1</td>\n",
       "      <td>0</td>\n",
       "      <td>0</td>\n",
       "      <td>0</td>\n",
       "    </tr>\n",
       "  </tbody>\n",
       "</table>\n",
       "<p>2 rows × 22 columns</p>\n",
       "</div>"
      ],
      "text/plain": [
       "   DayOfWeek  Time  Length  Delay  9E  AA  AS  B6  CO  DL  ...  FL  HA  MQ  \\\n",
       "0          3    15     205      1   0   0   0   0   1   0  ...   0   0   0   \n",
       "1          3    15     222      1   0   0   0   0   0   0  ...   0   0   0   \n",
       "\n",
       "   OH  OO  UA  US  WN  XE  YV  \n",
       "0   0   0   0   0   0   0   0  \n",
       "1   0   0   0   1   0   0   0  \n",
       "\n",
       "[2 rows x 22 columns]"
      ]
     },
     "execution_count": 10,
     "metadata": {},
     "output_type": "execute_result"
    }
   ],
   "source": [
    "#Dummy variables for the airline column\n",
    "dataset_new = dataset.join(pd.get_dummies(data=dataset['Airline'])).drop(columns=[\"Airline\"])\n",
    "print(\"Shape of the new dataset: \", dataset_new.shape)\n",
    "dataset_new.head(2)"
   ]
  },
  {
   "cell_type": "code",
   "execution_count": 11,
   "id": "f09149cf",
   "metadata": {},
   "outputs": [],
   "source": [
    "#Train-test split\n",
    "features = dataset_new.drop(columns = [\"Delay\"])\n",
    "label = dataset_new['Delay']\n",
    "x_train, x_val_test, y_train, y_val_test = train_test_split(features, label, test_size=0.2)\n",
    "x_val, x_test, y_val, y_test = train_test_split(x_val_test, y_val_test, test_size=0.5)"
   ]
  },
  {
   "cell_type": "code",
   "execution_count": 13,
   "id": "861425c6",
   "metadata": {},
   "outputs": [
    {
     "name": "stdout",
     "output_type": "stream",
     "text": [
      "Size of the training dataset:  431506\n",
      "Size of the validation dataset:  53938\n",
      "Size of the test dataset:  53939\n"
     ]
    }
   ],
   "source": [
    "print(\"Size of the training dataset: \", x_train.shape[0])\n",
    "print(\"Size of the validation dataset: \", x_val.shape[0])\n",
    "print(\"Size of the test dataset: \", x_test.shape[0])"
   ]
  },
  {
   "cell_type": "code",
   "execution_count": 20,
   "id": "95b3fa9e",
   "metadata": {},
   "outputs": [],
   "source": [
    "#Logistic Regresssion model\n",
    "lr = LogisticRegression(max_iter=200)\n",
    "lr.fit(x_train, y_train)"
   ]
  },
  {
   "cell_type": "code",
   "execution_count": 53,
   "id": "830b6a97",
   "metadata": {},
   "outputs": [
    {
     "name": "stdout",
     "output_type": "stream",
     "text": [
      "Training error of the Linear Regression model:  12.738603411771278\n",
      "Validation error of the Linear Regression model:  12.735860942723999\n",
      "Validation accuracy of the Linear Regression model:  0.6312618191256628\n"
     ]
    }
   ],
   "source": [
    "y_val_pred_lr = lr.predict(x_val)\n",
    "y_train_pred_lr = lr.predict(x_train)\n",
    "y_test_pred_lr = lr.predict(x_test)\n",
    "\n",
    "test_acc_lr = accuracy_score(y_test, y_test_pred_lr)\n",
    "train_err_lr = log_loss(y_train, y_train_pred_lr)\n",
    "val_err_lr =  log_loss(y_val, y_val_pred_lr)\n",
    "val_acc_lr = accuracy_score(y_val, y_val_pred_lr)\n",
    "\n",
    "print(\"Training error of the Linear Regression model: \", train_err_lr)\n",
    "print(\"Validation error of the Linear Regression model: \", val_err_lr)\n",
    "print(\"Validation accuracy of the Linear Regression model: \", val_acc_lr)"
   ]
  },
  {
   "cell_type": "code",
   "execution_count": 30,
   "id": "484d343a",
   "metadata": {},
   "outputs": [],
   "source": [
    "#MLP\n",
    "MLP = MLPClassifier(hidden_layer_sizes=(128),max_iter=150).fit(x_train, y_train)\n",
    "\n",
    "y_val_pred_MLP = MLP.predict(x_val)\n",
    "val_acc_MLP = accuracy_score(y_val, y_val_pred_MLP)"
   ]
  },
  {
   "cell_type": "code",
   "execution_count": 50,
   "id": "dac8b620",
   "metadata": {},
   "outputs": [
    {
     "name": "stdout",
     "output_type": "stream",
     "text": [
      "Training error of the MLP model:  12.474301055034783\n",
      "Validation error of the MLP model:  12.44962481675761\n",
      "Validation accuracy of the MLP model:  0.6395491119433424\n"
     ]
    }
   ],
   "source": [
    "y_train_pred_MLP = MLP.predict(x_train)\n",
    "y_test_pred_MLP = MLP.predict(x_test)\n",
    "y_val_pred_MLP = MLP.predict(x_val)\n",
    "\n",
    "test_acc_MLP = accuracy_score(y_test, y_test_pred_MLP)\n",
    "train_err_mlp = log_loss(y_train, y_train_pred_MLP)\n",
    "val_err_mlp =  log_loss(y_val, y_val_pred_MLP)\n",
    "val_acc_MLP = accuracy_score(y_val, y_val_pred_MLP)\n",
    "\n",
    "print(\"Training error of the MLP model: \", train_err_mlp)\n",
    "print(\"Validation error of the MLP model: \", val_err_mlp)\n",
    "print(\"Validation accuracy of the MLP model: \", val_acc_MLP)"
   ]
  },
  {
   "cell_type": "code",
   "execution_count": 54,
   "id": "01b49a8b",
   "metadata": {},
   "outputs": [
    {
     "name": "stdout",
     "output_type": "stream",
     "text": [
      "Testing error of the MLP model:  12.277143183403153\n",
      "Testing accuracy of the MLP model:  0.6445429095830475\n"
     ]
    }
   ],
   "source": [
    "test_err_MLP = log_loss(y_test, y_test_pred_MLP)\n",
    "test_acc_MLP = accuracy_score(y_test, y_test_pred_MLP)\n",
    "\n",
    "print(\"Testing error of the MLP model: \", test_err_MLP)\n",
    "print(\"Testing accuracy of the MLP model: \", test_acc_MLP)\n"
   ]
  }
 ],
 "metadata": {
  "kernelspec": {
   "display_name": "Python 3",
   "language": "python",
   "name": "python3"
  },
  "language_info": {
   "codemirror_mode": {
    "name": "ipython",
    "version": 3
   },
   "file_extension": ".py",
   "mimetype": "text/x-python",
   "name": "python",
   "nbconvert_exporter": "python",
   "pygments_lexer": "ipython3",
   "version": "3.9.5"
  }
 },
 "nbformat": 4,
 "nbformat_minor": 5
}
